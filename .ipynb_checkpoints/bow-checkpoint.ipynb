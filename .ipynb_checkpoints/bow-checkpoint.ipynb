{
 "cells": [
  {
   "cell_type": "markdown",
   "metadata": {
    "collapsed": false
   },
   "source": [
    "# Git"
   ]
  },
  {
   "cell_type": "code",
   "execution_count": 25,
   "metadata": {
    "collapsed": false
   },
   "outputs": [
    {
     "name": "stdout",
     "output_type": "stream",
     "text": [
      "[master (root-commit) 74c4aaf] bow: backup\n",
      " Committer: mingzeng <mingzeng@AR-GPU1.(none)>\n",
      "Your name and email address were configured automatically based\n",
      "on your username and hostname. Please check that they are accurate.\n",
      "You can suppress this message by setting them explicitly:\n",
      "\n",
      "    git config --global user.name \"Your Name\"\n",
      "    git config --global user.email you@example.com\n",
      "\n",
      "After doing this, you may fix the identity used for this commit with:\n",
      "\n",
      "    git commit --amend --reset-author\n",
      "\n",
      " 2 files changed, 171 insertions(+)\n",
      " create mode 100644 .ipynb_checkpoints/bow-checkpoint.ipynb\n",
      " create mode 100644 bow.ipynb\n"
     ]
    },
    {
     "name": "stderr",
     "output_type": "stream",
     "text": [
      "fatal: pathspec '.ipynb_checkpoints/_Modules-checkpoint.ipynb' did not match any files\n",
      "fatal: pathspec '_Modules.ipynb' did not match any files\n",
      "fatal: 'origin' does not appear to be a git repository\n",
      "fatal: The remote end hung up unexpectedly\n"
     ]
    }
   ],
   "source": [
    "%%bash \n",
    "\n",
    "git add .ipynb_checkpoints/../ARlib/_Modules.ipynb\n",
    "git add _Modules.ipynb\n",
    "\n",
    "git add .ipynb_checkpoints/bow-checkpoint.ipynb\n",
    "git add bow.ipynb\n",
    "\n",
    "#git add .\n",
    "\n",
    "git commit -m 'bow: backup'\n",
    "git push origin master"
   ]
  },
  {
   "cell_type": "code",
   "execution_count": null,
   "metadata": {
    "collapsed": true
   },
   "outputs": [],
   "source": [
    "%run '../ARlib/_Modules.ipynb'"
   ]
  },
  {
   "cell_type": "code",
   "execution_count": null,
   "metadata": {
    "collapsed": true
   },
   "outputs": [],
   "source": []
  }
 ],
 "metadata": {
  "kernelspec": {
   "display_name": "Python 2",
   "language": "python",
   "name": "python2"
  },
  "language_info": {
   "codemirror_mode": {
    "name": "ipython",
    "version": 2
   },
   "file_extension": ".py",
   "mimetype": "text/x-python",
   "name": "python",
   "nbconvert_exporter": "python",
   "pygments_lexer": "ipython2",
   "version": "2.7.10"
  }
 },
 "nbformat": 4,
 "nbformat_minor": 0
}
